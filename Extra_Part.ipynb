{
 "cells": [
  {
   "cell_type": "code",
   "execution_count": 15,
   "metadata": {},
   "outputs": [],
   "source": [
    "import numpy as np\n",
    "from scipy import optimize\n",
    "from scipy.io import loadmat"
   ]
  },
  {
   "cell_type": "code",
   "execution_count": 16,
   "metadata": {},
   "outputs": [],
   "source": [
    "movie_ids = 'movie_ids.txt'\n",
    "movies_mat = 'movies.mat'"
   ]
  },
  {
   "cell_type": "code",
   "execution_count": 17,
   "metadata": {},
   "outputs": [],
   "source": [
    "def normalizeRatings(Y, R):\n",
    "    m, n = Y.shape\n",
    "    Ymean = np.zeros(m)\n",
    "    Ynorm = np.zeros(Y.shape)\n",
    "\n",
    "    for i in range(m):\n",
    "        idx = R[i, :] == 1\n",
    "        Ymean[i] = np.mean(Y[i, idx])\n",
    "        Ynorm[i, idx] = Y[i, idx] - Ymean[i]\n",
    "\n",
    "    return Ynorm, Ymean\n",
    "\n",
    "\n",
    "def loadMovieList():\n",
    "    with open(movie_ids,  encoding='ISO-8859-1') as fid:\n",
    "        movies = fid.readlines()\n",
    "\n",
    "    movieNames = []\n",
    "    for movie in movies:\n",
    "        parts = movie.split()\n",
    "        movieNames.append(' '.join(parts[1:]).strip())\n",
    "    return movieNames\n",
    "\n",
    "\n",
    "def computeNumericalGradient(J, theta, e=1e-4):\n",
    "    numgrad = np.zeros(theta.shape)\n",
    "    perturb = np.diag(e * np.ones(theta.shape))\n",
    "    for i in range(theta.size):\n",
    "        loss1, _ = J(theta - perturb[:, i])\n",
    "        loss2, _ = J(theta + perturb[:, i])\n",
    "        numgrad[i] = (loss2 - loss1)/(2*e)\n",
    "    return numgrad\n",
    "\n",
    "\n",
    "def checkCostFunction(cofiCostFunc, lambda_=0.):\n",
    "    X_t = np.random.rand(4, 3)\n",
    "    Theta_t = np.random.rand(5, 3)\n",
    "\n",
    "    Y = np.dot(X_t, Theta_t.T)\n",
    "    Y[np.random.rand(*Y.shape) > 0.5] = 0\n",
    "    R = np.zeros(Y.shape)\n",
    "    R[Y != 0] = 1\n",
    "\n",
    "    X = np.random.randn(*X_t.shape)\n",
    "    Theta = np.random.randn(*Theta_t.shape)\n",
    "    num_movies, num_users = Y.shape\n",
    "    num_features = Theta_t.shape[1]\n",
    "\n",
    "    params = np.concatenate([X.ravel(), Theta.ravel()])\n",
    "    numgrad = computeNumericalGradient(\n",
    "        lambda x: cofiCostFunc(x, Y, R, num_users, num_movies, num_features, lambda_), params)\n",
    "\n",
    "    cost, grad = cofiCostFunc(params, Y, R, num_users,num_movies, num_features, lambda_)\n",
    "\n",
    "    print(np.stack([numgrad, grad], axis=1))\n",
    "    print('\\nThe above two columns you get should be very similar.'\n",
    "          '(Left-Your Numerical Gradient, Right-Analytical Gradient)')\n",
    "\n",
    "    diff = np.linalg.norm(numgrad-grad)/np.linalg.norm(numgrad+grad)\n",
    "    print('If your cost function implementation is correct, then '\n",
    "          'the relative difference will be small (less than 1e-9).')\n",
    "    print('\\nRelative Difference: %g' % diff)"
   ]
  },
  {
   "cell_type": "code",
   "execution_count": 18,
   "metadata": {},
   "outputs": [],
   "source": [
    "names = loadMovieList()"
   ]
  },
  {
   "cell_type": "code",
   "execution_count": 19,
   "metadata": {},
   "outputs": [],
   "source": [
    "data = loadmat(movies_mat)\n",
    "Y, R = data['Y'], data['R']"
   ]
  },
  {
   "cell_type": "code",
   "execution_count": 20,
   "metadata": {},
   "outputs": [
    {
     "name": "stdout",
     "output_type": "stream",
     "text": [
      "Average rating for movie  Office Killer (1997) : 4.994698 / 5\n"
     ]
    }
   ],
   "source": [
    "print('Average rating for movie ',names[1600],': %f / 5' %\n",
    "      np.mean(Y[90, R[1600, :]]))"
   ]
  },
  {
   "cell_type": "code",
   "execution_count": 21,
   "metadata": {},
   "outputs": [],
   "source": [
    "def cofiCostFunc(params, Y, R, num_users, num_movies,\n",
    "                      num_features, lambda_=0.0):\n",
    "    X = params[:num_movies*num_features].reshape(num_movies, num_features)\n",
    "    Theta = params[num_movies*num_features:].reshape(num_users, num_features)\n",
    "\n",
    "    J = 0\n",
    "    X_grad = np.zeros(X.shape)\n",
    "    Theta_grad = np.zeros(Theta.shape)\n",
    "\n",
    "    J = (1 / 2) * np.sum(np.square((X.dot(Theta.T) - Y) * R)) + (lambda_ / 2) * np.sum(np.square(X)) + \\\n",
    "                                                                (lambda_ / 2) * np.sum(np.square(Theta))\n",
    "    \n",
    "    for i in range(R.shape[0]):\n",
    "        \n",
    "        idx = np.where(R[i, :] == 1)[0]\n",
    "        Theta_temp = Theta[idx, :]\n",
    "        Y_temp = Y[i, idx]\n",
    "        X_grad[i, :] = np.dot(np.dot(X[i, :], Theta_temp.T) - Y_temp, Theta_temp) + lambda_ * X[i, :]\n",
    "        \n",
    "    for j in range(R.shape[1]):\n",
    "        \n",
    "        idx = np.where(R[:, j] == 1)[0]\n",
    "        X_temp = X[idx, :]\n",
    "        Y_temp = Y[idx, j]\n",
    "        Theta_grad[j, :] = np.dot(np.dot(X_temp, Theta[j, :]) - Y_temp, X_temp) + lambda_ * Theta[j, :]\n",
    "    \n",
    "    grad = np.concatenate([X_grad.ravel(), Theta_grad.ravel()])\n",
    "    return J, grad"
   ]
  },
  {
   "cell_type": "code",
   "execution_count": 22,
   "metadata": {},
   "outputs": [
    {
     "name": "stdout",
     "output_type": "stream",
     "text": [
      "[[ 4.31229304  4.31229304]\n",
      " [ 2.21011136  2.21011136]\n",
      " [-3.99743875 -3.99743875]\n",
      " [-3.69038825 -3.69038825]\n",
      " [ 0.01903989  0.01903989]\n",
      " [-0.54902357 -0.54902357]\n",
      " [11.52397621 11.52397621]\n",
      " [-4.6158779  -4.6158779 ]\n",
      " [-9.6640715  -9.6640715 ]\n",
      " [-4.15396929 -4.15396929]\n",
      " [-5.86257022 -5.86257022]\n",
      " [ 3.95461942  3.95461942]\n",
      " [-0.25454828 -0.25454828]\n",
      " [ 3.84728211  3.84728211]\n",
      " [-1.54255876 -1.54255876]\n",
      " [ 0.36644666  0.36644666]\n",
      " [ 1.59381982  1.59381982]\n",
      " [ 1.23914717  1.23914717]\n",
      " [ 2.77990864  2.77990864]\n",
      " [ 4.33509101  4.33509101]\n",
      " [-2.07683109 -2.07683109]\n",
      " [12.98311824 12.98311824]\n",
      " [-7.70929635 -7.70929635]\n",
      " [-6.54471245 -6.54471245]\n",
      " [ 0.08799067  0.08799067]\n",
      " [ 0.9038655   0.9038655 ]\n",
      " [-0.23484719 -0.23484719]]\n",
      "\n",
      "The above two columns you get should be very similar.(Left-Your Numerical Gradient, Right-Analytical Gradient)\n",
      "If your cost function implementation is correct, then the relative difference will be small (less than 1e-9).\n",
      "\n",
      "Relative Difference: 1.79014e-12\n"
     ]
    }
   ],
   "source": [
    "checkCostFunction(cofiCostFunc, 1.5)"
   ]
  },
  {
   "cell_type": "code",
   "execution_count": 23,
   "metadata": {},
   "outputs": [],
   "source": [
    "movieList = loadMovieList()\n",
    "\n",
    "n_m = len(movieList)\n",
    "my_ratings = np.zeros(n_m)\n",
    "\n",
    "my_ratings[0] = 4\n",
    "my_ratings[97] = 2\n",
    "my_ratings[6] = 2\n",
    "my_ratings[11]= 5\n",
    "my_ratings[53] = 4\n",
    "my_ratings[63] = 5\n",
    "my_ratings[364] = 2\n",
    "my_ratings[68] = 5\n",
    "my_ratings[182] = 4\n",
    "my_ratings[225] = 5\n",
    "my_ratings[354] = 1\n",
    "my_ratings[22] = 5\n",
    "my_ratings[124] = 5\n",
    "my_ratings[54] = 2"
   ]
  },
  {
   "cell_type": "code",
   "execution_count": 24,
   "metadata": {},
   "outputs": [
    {
     "name": "stderr",
     "output_type": "stream",
     "text": [
      "/tmp/ipykernel_51156/3937859778.py:17: DeprecationWarning: 'maxiter' has been deprecated in favor of 'maxfun' and will be removed in SciPy 1.11.0.\n",
      "  res = optimize.minimize(lambda x: cofiCostFunc(x, Ynorm, R, num_users,\n"
     ]
    }
   ],
   "source": [
    "\n",
    "Y = np.hstack([my_ratings[:, None], Y])\n",
    "R = np.hstack([(my_ratings > 0)[:, None], R])\n",
    "\n",
    "Ynorm, Ymean = normalizeRatings(Y, R)\n",
    "\n",
    "num_movies, num_users = Y.shape\n",
    "num_features = 7\n",
    "\n",
    "X = np.random.randn(num_movies, num_features)\n",
    "Theta = np.random.randn(num_users, num_features)\n",
    "\n",
    "initial_parameters = np.concatenate([X.ravel(), Theta.ravel()])\n",
    "\n",
    "options = {'maxiter': 100}\n",
    "\n",
    "lambda_ = 10\n",
    "res = optimize.minimize(lambda x: cofiCostFunc(x, Ynorm, R, num_users,\n",
    "                                               num_movies, num_features, lambda_),\n",
    "                        initial_parameters,\n",
    "                        method='TNC',\n",
    "                        jac=True,\n",
    "                        options=options)\n",
    "theta = res.x\n",
    "\n",
    "X = theta[:num_movies*num_features].reshape(num_movies, num_features)\n",
    "Theta = theta[num_movies*num_features:].reshape(num_users, num_features)"
   ]
  },
  {
   "cell_type": "code",
   "execution_count": 25,
   "metadata": {},
   "outputs": [
    {
     "name": "stdout",
     "output_type": "stream",
     "text": [
      "Top recommendations for you:\n",
      "----------------------------\n",
      "Predicting rating 5.0 for movie They Made Me a Criminal (1939)\n",
      "Predicting rating 5.0 for movie Marlene Dietrich: Shadow and Light (1996)\n",
      "Predicting rating 5.0 for movie Star Kid (1997)\n",
      "Predicting rating 5.0 for movie Great Day in Harlem, A (1994)\n",
      "Predicting rating 5.0 for movie Aiqing wansui (1994)\n",
      "Predicting rating 5.0 for movie Someone Else's America (1995)\n",
      "Predicting rating 5.0 for movie Entertaining Angels: The Dorothy Day Story (1996)\n",
      "Predicting rating 5.0 for movie Santa with Muscles (1996)\n",
      "Predicting rating 5.0 for movie Saint of Fort Washington, The (1993)\n",
      "Predicting rating 5.0 for movie Prefontaine (1997)\n",
      "Predicting rating 4.6 for movie Pather Panchali (1955)\n",
      "Predicting rating 4.5 for movie Shawshank Redemption, The (1994)\n",
      "Predicting rating 4.5 for movie Schindler's List (1993)\n",
      "Predicting rating 4.5 for movie Everest (1998)\n",
      "Predicting rating 4.5 for movie Some Mother's Son (1996)\n",
      "\n",
      "Original ratings provided:\n",
      "--------------------------\n",
      "Rated 4 for Toy Story (1995)\n",
      "Rated 2 for Twelve Monkeys (1995)\n",
      "Rated 5 for Usual Suspects, The (1995)\n",
      "Rated 5 for Taxi Driver (1976)\n",
      "Rated 4 for Outbreak (1995)\n",
      "Rated 2 for Professional, The (1994)\n",
      "Rated 5 for Shawshank Redemption, The (1994)\n",
      "Rated 5 for Forrest Gump (1994)\n",
      "Rated 2 for Silence of the Lambs, The (1991)\n",
      "Rated 5 for Phenomenon (1996)\n",
      "Rated 4 for Alien (1979)\n",
      "Rated 5 for Die Hard 2 (1990)\n",
      "Rated 1 for Sphere (1998)\n",
      "Rated 2 for Powder (1995)\n"
     ]
    }
   ],
   "source": [
    "p = np.dot(X, Theta.T)\n",
    "my_predictions = p[:, 0] + Ymean\n",
    "\n",
    "movieList = loadMovieList()\n",
    "\n",
    "ix = np.argsort(my_predictions)[::-1]\n",
    "\n",
    "print('Top recommendations for you:')\n",
    "print('----------------------------')\n",
    "for i in range(15):\n",
    "    j = ix[i]\n",
    "    print('Predicting rating %.1f for movie %s' % (my_predictions[j], movieList[j]))\n",
    "\n",
    "print('\\nOriginal ratings provided:')\n",
    "print('--------------------------')\n",
    "for i in range(len(my_ratings)):\n",
    "    if my_ratings[i] > 0:\n",
    "        print('Rated %d for %s' % (my_ratings[i], movieList[i]))"
   ]
  }
 ],
 "metadata": {
  "kernelspec": {
   "display_name": "Python 3",
   "language": "python",
   "name": "python3"
  },
  "language_info": {
   "codemirror_mode": {
    "name": "ipython",
    "version": 3
   },
   "file_extension": ".py",
   "mimetype": "text/x-python",
   "name": "python",
   "nbconvert_exporter": "python",
   "pygments_lexer": "ipython3",
   "version": "3.10.6"
  },
  "orig_nbformat": 4
 },
 "nbformat": 4,
 "nbformat_minor": 2
}
